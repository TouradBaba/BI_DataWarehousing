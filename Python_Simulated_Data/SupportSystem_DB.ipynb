{
 "cells": [
  {
   "cell_type": "code",
   "execution_count": 1,
   "id": "fb395271-ea92-4088-b8c1-6266a8b4463f",
   "metadata": {},
   "outputs": [
    {
     "name": "stdout",
     "output_type": "stream",
     "text": [
      "Database populated successfully.\n"
     ]
    }
   ],
   "source": [
    "import mysql.connector\n",
    "from faker import Faker\n",
    "import random\n",
    "import datetime\n",
    "\n",
    "# Initialize Faker to generate realistic data\n",
    "fake = Faker()\n",
    "\n",
    "# Connect to MySQL database\n",
    "conn = mysql.connector.connect(\n",
    "    host=\"127.0.0.1\",\n",
    "    user=\"root\",\n",
    "    password=\"*****************\",\n",
    "    database=\"SupportSystem\"\n",
    ")\n",
    "cursor = conn.cursor()\n",
    "\n",
    "# Create Tickets table\n",
    "cursor.execute('''CREATE TABLE IF NOT EXISTS Tickets (\n",
    "                    TicketID INT AUTO_INCREMENT PRIMARY KEY,\n",
    "                    CustomerID INT,\n",
    "                    Subject VARCHAR(255),\n",
    "                    Description TEXT,\n",
    "                    Status VARCHAR(50),\n",
    "                    Priority VARCHAR(50),\n",
    "                    CreatedDate TIMESTAMP,\n",
    "                    ResolvedDate TIMESTAMP\n",
    "                )''')\n",
    "\n",
    "# Create Customers table\n",
    "cursor.execute('''CREATE TABLE IF NOT EXISTS Customers (\n",
    "                    CustomerID INT AUTO_INCREMENT PRIMARY KEY,\n",
    "                    FirstName VARCHAR(100),\n",
    "                    LastName VARCHAR(100),\n",
    "                    Email VARCHAR(255),\n",
    "                    Phone VARCHAR(20),\n",
    "                    Address TEXT\n",
    "                )''')\n",
    "\n",
    "# Populate Customers table with simulated data\n",
    "for _ in range(100):\n",
    "    first_name = fake.first_name()\n",
    "    last_name = fake.last_name()\n",
    "    email = fake.email()\n",
    "    phone = fake.phone_number()\n",
    "    address = fake.address()\n",
    "    cursor.execute('''INSERT INTO Customers (FirstName, LastName, Email, Phone, Address)\n",
    "                      VALUES (%s, %s, %s, %s, %s)''', (first_name, last_name, email, phone, address))\n",
    "\n",
    "# Populate Tickets table with simulated data\n",
    "for _ in range(500):\n",
    "    subject = fake.sentence()\n",
    "    description = fake.paragraph()\n",
    "    status = random.choice(['Open', 'In Progress', 'Closed'])\n",
    "    priority = random.choice(['Low', 'Medium', 'High'])\n",
    "    created_date = fake.date_time_this_year()\n",
    "    resolved_date = fake.date_time_this_year() if status == 'Closed' else None\n",
    "    customer_id = random.randint(1, 100)  # Assuming 100 customers\n",
    "    cursor.execute('''INSERT INTO Tickets (CustomerID, Subject, Description, Status, Priority, CreatedDate, ResolvedDate)\n",
    "                      VALUES (%s, %s, %s, %s, %s, %s, %s)''', (customer_id, subject, description, status, priority, created_date, resolved_date))\n",
    "\n",
    "# Commit changes and close the connection\n",
    "conn.commit()\n",
    "conn.close()\n",
    "\n",
    "print(\"Database populated successfully.\")"
   ]
  },
  {
   "cell_type": "code",
   "execution_count": null,
   "id": "d06daa41-0d62-411d-ab38-32147ff94411",
   "metadata": {},
   "outputs": [],
   "source": []
  }
 ],
 "metadata": {
  "kernelspec": {
   "display_name": "Python 3 (ipykernel)",
   "language": "python",
   "name": "python3"
  },
  "language_info": {
   "codemirror_mode": {
    "name": "ipython",
    "version": 3
   },
   "file_extension": ".py",
   "mimetype": "text/x-python",
   "name": "python",
   "nbconvert_exporter": "python",
   "pygments_lexer": "ipython3",
   "version": "3.11.7"
  }
 },
 "nbformat": 4,
 "nbformat_minor": 5
}
