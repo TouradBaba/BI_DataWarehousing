{
 "cells": [
  {
   "cell_type": "markdown",
   "id": "5e498a0c-30b5-4c10-b4ac-4b081c246115",
   "metadata": {},
   "source": [
    "# Generate simulated data for the Customer Relationship Management(CRM) system and for marketing campaigns"
   ]
  },
  {
   "cell_type": "code",
   "execution_count": 1,
   "id": "9ee93bac-00da-40ac-bc5f-bb93f3adb310",
   "metadata": {},
   "outputs": [
    {
     "name": "stdout",
     "output_type": "stream",
     "text": [
      "CRM data generated and saved to 'crm_data.csv'\n"
     ]
    }
   ],
   "source": [
    "import csv\n",
    "from faker import Faker\n",
    "import random\n",
    "\n",
    "# Initialize Faker to generate realistic data\n",
    "fake = Faker()\n",
    "\n",
    "# Define the number of records to generate\n",
    "num_records = 1000\n",
    "\n",
    "# Create a CSV file for CRM data\n",
    "with open('crm_data.csv', 'w', newline='') as csvfile:\n",
    "    fieldnames = ['AccountID', 'ContactID', 'LeadID', 'OpportunityID', 'ActivityID', 'FirstName', 'LastName', 'Email', 'Phone', 'Status']\n",
    "    writer = csv.DictWriter(csvfile, fieldnames=fieldnames)\n",
    "    writer.writeheader()\n",
    "    \n",
    "    for _ in range(num_records):\n",
    "        account_id = fake.random_int(min=1000, max=9999)\n",
    "        contact_id = fake.random_int(min=10000, max=99999)\n",
    "        lead_id = fake.random_int(min=100000, max=999999)\n",
    "        opportunity_id = fake.random_int(min=1000000, max=9999999)\n",
    "        activity_id = fake.random_int(min=10000000, max=99999999)\n",
    "        first_name = fake.first_name()\n",
    "        last_name = fake.last_name()\n",
    "        email = fake.email()\n",
    "        phone = fake.phone_number()\n",
    "        status = random.choice(['Active', 'Inactive'])\n",
    "        \n",
    "        writer.writerow({'AccountID': account_id, 'ContactID': contact_id, 'LeadID': lead_id,\n",
    "                         'OpportunityID': opportunity_id, 'ActivityID': activity_id,\n",
    "                         'FirstName': first_name, 'LastName': last_name,\n",
    "                         'Email': email, 'Phone': phone, 'Status': status})\n",
    "\n",
    "print(\"CRM data generated and saved to 'crm_data.csv'\")"
   ]
  },
  {
   "cell_type": "code",
   "execution_count": 2,
   "id": "bbc54945-f838-4bbe-a453-240fd4a54de2",
   "metadata": {},
   "outputs": [
    {
     "name": "stdout",
     "output_type": "stream",
     "text": [
      "Marketing data generated and saved to 'marketing_data.json'\n"
     ]
    }
   ],
   "source": [
    "import json\n",
    "\n",
    "# Create a list to store marketing data\n",
    "marketing_data = []\n",
    "\n",
    "# Generate marketing data\n",
    "for _ in range(num_records):\n",
    "    campaign_id = fake.random_int(min=1000, max=9999)\n",
    "    campaign_name = fake.company()\n",
    "    lead_source = random.choice(['Website', 'Email', 'Social Media'])\n",
    "    response_type = random.choice(['Click', 'Conversion', 'Engagement'])\n",
    "    conversion_rate = round(random.uniform(0.01, 0.5), 2)\n",
    "    \n",
    "    marketing_data.append({\n",
    "        'CampaignID': campaign_id,\n",
    "        'CampaignName': campaign_name,\n",
    "        'LeadSource': lead_source,\n",
    "        'ResponseType': response_type,\n",
    "        'ConversionRate': conversion_rate\n",
    "    })\n",
    "\n",
    "# Write marketing data to a JSON file\n",
    "with open('marketing_data.json', 'w') as jsonfile:\n",
    "    json.dump(marketing_data, jsonfile, indent=4)\n",
    "\n",
    "print(\"Marketing data generated and saved to 'marketing_data.json'\")"
   ]
  },
  {
   "cell_type": "code",
   "execution_count": null,
   "id": "a19dc96d-83b1-46bb-9984-5b8f415b75a9",
   "metadata": {},
   "outputs": [],
   "source": []
  }
 ],
 "metadata": {
  "kernelspec": {
   "display_name": "Python 3 (ipykernel)",
   "language": "python",
   "name": "python3"
  },
  "language_info": {
   "codemirror_mode": {
    "name": "ipython",
    "version": 3
   },
   "file_extension": ".py",
   "mimetype": "text/x-python",
   "name": "python",
   "nbconvert_exporter": "python",
   "pygments_lexer": "ipython3",
   "version": "3.11.7"
  }
 },
 "nbformat": 4,
 "nbformat_minor": 5
}
